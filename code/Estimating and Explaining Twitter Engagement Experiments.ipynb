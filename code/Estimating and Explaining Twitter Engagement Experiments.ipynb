{
 "cells": [
  {
   "cell_type": "markdown",
   "metadata": {},
   "source": [
    "# Estimating and Explaing Twitter Engagement Experiments\n",
    "\n",
    "In which I test out the various scripts I've written to build engagement estimators, do tweet clustering and dimensionality reduction, and visualization or other explanations of tweets datasets."
   ]
  },
  {
   "cell_type": "code",
   "execution_count": null,
   "metadata": {
    "collapsed": false
   },
   "outputs": [],
   "source": [
    "import matplotlib.pyplot as plt\n",
    "\n",
    "%matplotlib inline\n",
    "plt.rcParams['figure.figsize'] = (10.0, 8.0) # set default size of plots\n",
    "plt.rcParams['image.interpolation'] = 'nearest'\n",
    "plt.rcParams['image.cmap'] = 'gray'"
   ]
  },
  {
   "cell_type": "markdown",
   "metadata": {
    "collapsed": true
   },
   "source": [
    "## Building Engagement Estimators\n",
    "\n",
    "Let's try to build a decent estimator on the engagement for Bernie Sander's Twitter. Based on previous experiments, decision tree regression works quite well with the hash vectorization feature extraction method."
   ]
  },
  {
   "cell_type": "code",
   "execution_count": null,
   "metadata": {
    "collapsed": false
   },
   "outputs": [],
   "source": [
    "execfile('build_engagement_estimator.py')"
   ]
  },
  {
   "cell_type": "markdown",
   "metadata": {},
   "source": [
    "We see that the R^2 score on the test set is close to zero, which implies that the model is just about doing as well as predicting the mean regression value (tuple of number of likes, retweets). However, this is not very descriptive, so it will be helpful to plot the predicted values vs. the ground truth (which we will do below). On the other hand, the mean absolute error on the test set is "
   ]
  }
 ],
 "metadata": {
  "kernelspec": {
   "display_name": "Python 2",
   "language": "python",
   "name": "python2"
  },
  "language_info": {
   "codemirror_mode": {
    "name": "ipython",
    "version": 2
   },
   "file_extension": ".py",
   "mimetype": "text/x-python",
   "name": "python",
   "nbconvert_exporter": "python",
   "pygments_lexer": "ipython2",
   "version": "2.7.9"
  }
 },
 "nbformat": 4,
 "nbformat_minor": 1
}
